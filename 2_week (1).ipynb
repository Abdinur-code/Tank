{
  "nbformat": 4,
  "nbformat_minor": 0,
  "metadata": {
    "colab": {
      "name": "2_week.ipynb",
      "provenance": []
    },
    "kernelspec": {
      "name": "python3",
      "display_name": "Python 3"
    }
  },
  "cells": [
    {
      "cell_type": "code",
      "metadata": {
        "id": "VKd165kpva4b",
        "colab_type": "code",
        "colab": {
          "base_uri": "https://localhost:8080/",
          "height": 101
        },
        "outputId": "0e3578d5-c3d4-4c72-9d16-0511fd8b1aee"
      },
      "source": [
        "# 1\n",
        "x1 = int(input())\n",
        "y1 = int(input())\n",
        "x2 = int(input())\n",
        "y2 = int(input())\n",
        "\n",
        "if x1 == x2 or y1 == y2:\n",
        "    print(\"YES\")\n",
        "else:\n",
        "    print(\"NO\")"
      ],
      "execution_count": 1,
      "outputs": [
        {
          "output_type": "stream",
          "text": [
            "5\n",
            "5\n",
            "5\n",
            "5\n",
            "YES\n"
          ],
          "name": "stdout"
        }
      ]
    },
    {
      "cell_type": "code",
      "metadata": {
        "id": "u_Pwf8m_wEib",
        "colab_type": "code",
        "colab": {}
      },
      "source": [
        ""
      ],
      "execution_count": null,
      "outputs": []
    },
    {
      "cell_type": "code",
      "metadata": {
        "id": "jbsgTsvdvnYG",
        "colab_type": "code",
        "colab": {}
      },
      "source": [
        "#2\n",
        "x1 = int(input())\n",
        "y1 = int(input())\n",
        "x2 = int(input())\n",
        "y2 = int(input())\n",
        "\n",
        "if abs(x1 - x2) <= 1 and abs(y1 - y2) <= 1:\n",
        "    print(\"YES\")\n",
        "else:\n",
        "    print(\"NO\")"
      ],
      "execution_count": null,
      "outputs": []
    },
    {
      "cell_type": "code",
      "metadata": {
        "id": "egwCfr5zvqC8",
        "colab_type": "code",
        "colab": {}
      },
      "source": [
        "#3\n",
        "x1 = int(input())\n",
        "y1 = int(input())\n",
        "x2 = int(input())\n",
        "y2 = int(input())\n",
        "if abs(x1 - x2) == abs(y1 - y2):\n",
        "    print(\"YES\")\n",
        "else: \n",
        "    print(\"NO\")"
      ],
      "execution_count": null,
      "outputs": []
    },
    {
      "cell_type": "code",
      "metadata": {
        "id": "hoXGugr-vvTX",
        "colab_type": "code",
        "colab": {}
      },
      "source": [
        "#4\n",
        "x1 = int(input())\n",
        "y1 = int(input())\n",
        "x2 = int(input())\n",
        "y2 = int(input())\n",
        "\n",
        "\n",
        "if x1 == x2 or y1 == y2 or abs(x1 - x2) == abs(y1 - y2):\n",
        "    print(\"YES\")\n",
        "else:\n",
        "    print(\"NO\")"
      ],
      "execution_count": null,
      "outputs": []
    },
    {
      "cell_type": "code",
      "metadata": {
        "id": "msS9yY2Svypl",
        "colab_type": "code",
        "colab": {}
      },
      "source": [
        "#5\n",
        "x1 = int(input())\n",
        "y1 = int(input())\n",
        "x2 = int(input())\n",
        "y2 = int(input())\n",
        "    \n",
        "    \n",
        "    \n",
        "    \n",
        "if x2 == x1 - 1 and y2 == y1 - 2:\n",
        "    print(\"YES\")\n",
        "elif x2 == x1 - 2 and y2 == y1 - 1:\n",
        "    print(\"YES\")\n",
        "\n",
        "elif x2 == x1 - 2 and y2 == y1 + 1:\n",
        "     print(\"YES\")\n",
        "elif x2 == x1 - 1 and y2 == y1 + 2:\n",
        "    print(\"YES\")\n",
        "    \n",
        "elif x2 == x1 + 1 and y2 == y1 - 2:\n",
        "    print(\"YES\")\n",
        "elif x2 == x1 + 2 and y2 == y1 - 1:\n",
        "    print(\"YES\")\n",
        "    \n",
        "elif x2 == x1 + 1 and y2 == y1 + 2:\n",
        "    print(\"YES\")\n",
        "elif x2 == x1 + 2 and y2 == y1 + 1:\n",
        "    print(\"YES\")\n",
        "\n",
        "else:\n",
        "    print(\"NO\")"
      ],
      "execution_count": null,
      "outputs": []
    },
    {
      "cell_type": "code",
      "metadata": {
        "id": "OSKkSaR7v0En",
        "colab_type": "code",
        "colab": {}
      },
      "source": [
        "#6\n",
        "n = int(input())\n",
        "m = int(input())\n",
        "k = int(input())\n",
        "i = 0\n",
        "if (k % n == 0 and k // n < m) or (k % m == 0 and k // m < n):\n",
        "    print(\"YES\")\n",
        "else:\n",
        "    print(\"NO\")"
      ],
      "execution_count": null,
      "outputs": []
    },
    {
      "cell_type": "code",
      "metadata": {
        "id": "gJQvPWzYwGjy",
        "colab_type": "code",
        "colab": {}
      },
      "source": [
        "#8\n",
        "n = int(input())\n",
        "m = int(input())\n",
        "k = int(input())\n",
        "\n",
        "if n <= m <=k:\n",
        "    print(n, m, k)\n",
        "if n <= k <= m:\n",
        "    print(n, k, m)\n",
        "if k <= n <= m:\n",
        "    print(k, n, m)\n",
        "if k <= m <= n:\n",
        "    print(k, m, n)\n",
        "if m <= k <= n:\n",
        "    print(m, k, n)\n",
        "if m <= n <= k:\n",
        "    print(m, n, k)"
      ],
      "execution_count": null,
      "outputs": []
    },
    {
      "cell_type": "code",
      "metadata": {
        "id": "8KepL_mCwK9T",
        "colab_type": "code",
        "colab": {}
      },
      "source": [
        "#9\n",
        "x1 = int(input())\n",
        "y1 = int(input())\n",
        "z1 = int(input())\n",
        "\n",
        "x2 = int(input())\n",
        "y2 = int(input())\n",
        "z2 = int(input())\n",
        "\n",
        "if x1 * y1 * z1 == x2 * y2 * z2:\n",
        "    print(\"Boxes are equal\")\n",
        "if x1 * y1 * z1 < x2 * y2 * z2:\n",
        "    print(\"the first box is smaller than the second one\")\n",
        "if x1 * y1 * z1 > x2 * y2 * z2:\n",
        "    print(\"the first box is largest than the second one\")"
      ],
      "execution_count": null,
      "outputs": []
    },
    {
      "cell_type": "code",
      "metadata": {
        "id": "OpE4D0omwM2m",
        "colab_type": "code",
        "colab": {}
      },
      "source": [
        "#10\n",
        "x = int(input())\n",
        "\n",
        "for i in range(1, x):\n",
        "    if i * i <= x:\n",
        "        print(i * i)"
      ],
      "execution_count": null,
      "outputs": []
    },
    {
      "cell_type": "code",
      "metadata": {
        "id": "o4hybv7rwPFn",
        "colab_type": "code",
        "colab": {}
      },
      "source": [
        "#11\n",
        "x = int(input())\n",
        "\n",
        "for i in range(2, x):\n",
        "    if x % i == 0:\n",
        "        print(i)\n",
        "        exit(0)"
      ],
      "execution_count": null,
      "outputs": []
    },
    {
      "cell_type": "code",
      "metadata": {
        "id": "TI9POQWOwYLC",
        "colab_type": "code",
        "colab": {}
      },
      "source": [
        "#12\n",
        "n = int(input())\n",
        "i = 1\n",
        "print(\"1\")\n",
        "while n >= 2**i:\n",
        "    i += 1\n",
        "    print(2**(i-1))"
      ],
      "execution_count": null,
      "outputs": []
    },
    {
      "cell_type": "code",
      "metadata": {
        "id": "JsCtd0A5waQa",
        "colab_type": "code",
        "colab": {}
      },
      "source": [
        "#13\n",
        "summa = 0\n",
        "e = 1\n",
        "while e != 0:\n",
        "    e = int(input())\n",
        "    summa = e + summa\n",
        "print(summa)"
      ],
      "execution_count": null,
      "outputs": []
    },
    {
      "cell_type": "code",
      "metadata": {
        "id": "QUXsrqdRweU7",
        "colab_type": "code",
        "colab": {}
      },
      "source": [
        "#14\n",
        "max1 = 0\n",
        "n = 0\n",
        "e = -1\n",
        "while e != 0:\n",
        "    e = int(input())\n",
        "    if e > max1:\n",
        "        max1, n = e, 1\n",
        "    elif e == max1:\n",
        "        n = n + 1       \n",
        "print(n)"
      ],
      "execution_count": null,
      "outputs": []
    },
    {
      "cell_type": "code",
      "metadata": {
        "id": "vucGtadZ2fLB",
        "colab_type": "code",
        "colab": {}
      },
      "source": [
        "#18\n",
        "n = int(input())\n",
        "a = []\n",
        "for i in range(0, n):\n",
        "    i = int(input())\n",
        "    a.append(i)\n",
        "for i in range(0, n):\n",
        "    if i == n - 1:\n",
        "        a[i] = a[0]\n",
        "        a[0] = a[]\n",
        "        print(a[i])\n",
        "        exit(0)\n",
        "    a[i] = a[i + 1]\n",
        "    print(a[i])\n"
      ],
      "execution_count": null,
      "outputs": []
    }
  ]
}